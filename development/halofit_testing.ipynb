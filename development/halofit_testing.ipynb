{
 "cells": [
  {
   "cell_type": "code",
   "execution_count": 4,
   "metadata": {
    "ExecuteTime": {
     "end_time": "2017-05-22T05:12:46.410124",
     "start_time": "2017-05-22T05:12:46.050906Z"
    }
   },
   "outputs": [],
   "source": [
    "from hmf import Transfer"
   ]
  },
  {
   "cell_type": "code",
   "execution_count": 17,
   "metadata": {
    "ExecuteTime": {
     "end_time": "2017-05-22T05:54:50.276527",
     "start_time": "2017-05-22T05:54:50.269658Z"
    }
   },
   "outputs": [],
   "source": [
    "teh_nl_tk = Transfer(transfer_model=\"EH\", takahashi=True, z= 8.0)\n",
    "teh_nl_ntk = Transfer(transfer_model=\"EH\", takahashi=False, z=8.0)\n"
   ]
  },
  {
   "cell_type": "code",
   "execution_count": 18,
   "metadata": {
    "ExecuteTime": {
     "end_time": "2017-05-22T05:54:52.168860",
     "start_time": "2017-05-22T05:54:52.164999Z"
    },
    "collapsed": true
   },
   "outputs": [],
   "source": [
    "%matplotlib inline\n",
    "import matplotlib.pyplot as plt\n",
    "import numpy as np"
   ]
  },
  {
   "cell_type": "code",
   "execution_count": 20,
   "metadata": {
    "ExecuteTime": {
     "end_time": "2017-05-22T05:56:18.289893",
     "start_time": "2017-05-22T05:56:18.287974Z"
    },
    "collapsed": true
   },
   "outputs": [],
   "source": [
    "teh_nl_tk.update(z=0)"
   ]
  },
  {
   "cell_type": "code",
   "execution_count": 22,
   "metadata": {
    "ExecuteTime": {
     "end_time": "2017-05-22T05:57:46.801646",
     "start_time": "2017-05-22T05:57:46.525151Z"
    }
   },
   "outputs": [
    {
     "data": {
      "image/png": "[encoded data removed]",
      "text/plain": [
       "<matplotlib.figure.Figure at 0x7f256e41fc18>"
      ]
     },
     "metadata": {},
     "output_type": "display_data"
    }
   ],
   "source": [
    "plt.plot(teh_nl_tk.k, np.abs(teh_nl_ntk.nonlinear_power/teh_nl_tk.nonlinear_power -1))\n",
    "#plt.plot(teh_nl_ntk.k, teh_nl_ntk.nonlinear_power)\n",
    "#plt.plot(teh_nl_ntk.k, teh_nl_ntk.power)\n",
    "\n",
    "plt.xscale('log')\n",
    "#plt.yscale('log')\n",
    "plt.grid(True)"
   ]
  },
  {
   "cell_type": "code",
   "execution_count": 8,
   "metadata": {
    "ExecuteTime": {
     "end_time": "2017-05-22T05:15:14.866949",
     "start_time": "2017-05-22T05:15:14.857118Z"
    }
   },
   "outputs": [
    {
     "data": {
      "text/plain": [
       "6.9077552789821368"
      ]
     },
     "execution_count": 8,
     "metadata": {},
     "output_type": "execute_result"
    }
   ],
   "source": [
    "np.log(1e3)"
   ]
  },
  {
   "cell_type": "code",
   "execution_count": 11,
   "metadata": {
    "ExecuteTime": {
     "end_time": "2017-05-22T05:53:05.753761",
     "start_time": "2017-05-22T05:53:05.751971Z"
    },
    "collapsed": true
   },
   "outputs": [],
   "source": [
    "from astropy.cosmology import Planck15"
   ]
  },
  {
   "cell_type": "code",
   "execution_count": 15,
   "metadata": {
    "ExecuteTime": {
     "end_time": "2017-05-22T05:53:42.297282",
     "start_time": "2017-05-22T05:53:42.294272Z"
    }
   },
   "outputs": [
    {
     "data": {
      "text/plain": [
       "0.99009841609741556"
      ]
     },
     "execution_count": 15,
     "metadata": {},
     "output_type": "execute_result"
    }
   ],
   "source": [
    "Planck15.Om(8.0)"
   ]
  },
  {
   "cell_type": "code",
   "execution_count": 19,
   "metadata": {},
   "outputs": [],
   "source": [
    "#Nbodykit\n",
    "#from nbodykit.lab import *\n",
    "#from nbodykit import setup_logging\n",
    "#from nbodykit.lab import cosmology\n",
    "#setup_logging() # log output to stdout\n",
    "\n",
    "#HMF\n",
    "from hmf import cosmology as cm\n",
    "from hmf import density_field\n",
    "#from density_field import transfer\n",
    "\n",
    "import numpy as np\n",
    "import matplotlib\n",
    "#matplotlib.use('Agg') only when working from terminal\n",
    "\n",
    "import matplotlib.pyplot as plt\n",
    "\n",
    "# Import the science packages/libraries\n",
    "import scipy, scipy.interpolate, scipy.misc, scipy.integrate\n",
    "from scipy.interpolate import interp1d\n",
    "import math\n",
    "import random\n",
    "#from IPython.display import display, Math\n",
    "\n",
    "\n",
    "# In[4]:\n",
    "\n",
    "\n",
    "# PLANCK15 cosmology:\n",
    "#cosmonbody= cosmology.Planck15  #nbodykit cosmology\n",
    "my_cosmo = cm.Cosmology() #hmf cosmology, again Planck15\n",
    "zbin=1.35\n",
    "lx=1500  # in Mpc, box cube side\n",
    "ngrid=400 #grid of the cube\n",
    "\n",
    "#Modes\n",
    "a=2*np.pi/lx #smallest k\n",
    "b=ngrid*np.pi/lx #biggest k\n",
    "npt=140 #number of k\n",
    "kparal=np.linspace(a,b,npt) #k  parallel data vector\n",
    "ktotal=0.5*(kparal[1:]+kparal[:-1]) #k's (cfr. https://github.com/franciscovillaescusa/Pylians/blob/a5d9862dff855e07626ce62992f8273741e22e77/Pk/1D/Pk_1D.py)\n",
    "kperpend=np.sqrt(ktotal**2-kparal[:-1]**2) #perpendicular modes\n",
    "\n",
    "\n",
    "# In[5]:\n",
    "\n",
    "\n",
    "# Nbodykit power spectra\n",
    "# P_nw =cosmology.LinearPower(cosmonbody,redshift=zbin,transfer='NoWiggleEisensteinHu')\n",
    "# P_w =cosmology.LinearPower(cosmonbody,redshift=zbin,transfer='EisensteinHu')\n",
    "# P_wh =cosmology.HalofitPower(cosmonbody,redshift=zbin) #nbodykit Halofit\n",
    "\n",
    "\n",
    "# In[6]:\n",
    "\n",
    "\n",
    "#halofit di hmf ha bisogno di vettori, quindi riempio vettori\n",
    "#plinnbody=np.zeros(len(ktotal))\n",
    "#plinnbody_nw=np.zeros(len(ktotal))\n",
    "#pnlinnbody=np.zeros(len(ktotal))\n",
    "\n",
    "#plinnbody=P_w(ktotal) \n",
    "#pnlinnbody=P_wh(ktotal) #nbodykit halofit\n",
    "#plinnbody_nw=P_nw(ktotal)\n",
    "\n",
    "#pnorm=plinnbody*ktotal**3/(2*np.pi**2) #dimensionless power spectrum \n",
    "#pnorm_nw=plinnbody_nw*ktotal**3/(2*np.pi**2) #dimensionless nowiggles power spectrum\n",
    "\n",
    "\n",
    "# In[7]:\n",
    "\n",
    "\n",
    "#Plot check\n",
    "#plt.plot(ktotal,pnorm)\n",
    "#plt.plot(ktotal,pnorm_nw)\n",
    "\n",
    "\n",
    "# In[8]:\n",
    "\n",
    "sigma_8=0.8\n",
    "#sigma_8=cosmonbody.sigma8  #sigma8 \n",
    "#print(sigma_8)\n",
    "\n",
    "\n",
    "# In[9]:\n",
    "t = Transfer(transfer_model='EH')\n",
    "k = t.k\n",
    "\n",
    "pnorm = t.power * k**3 / (2*np.pi**2)\n",
    "pnorm_ = interp1d(k, pnorm)(ktotal)\n",
    "pnlw=density_field.halofit(ktotal, pnorm_, sigma_8, zbin, cosmo=my_cosmo.cosmo, takahashi=True) #Generate (?) non-linear wiggles with halofit\n",
    "#pnlnw=density_field.halofit.halofit(ktotal,pnorm_nw, sigma_8, zbin, cosmo=my_cosmo, takahashi=True) #Generate (?) non-linear no-wiggles with halofit"
   ]
  },
  {
   "cell_type": "code",
   "execution_count": 17,
   "metadata": {},
   "outputs": [],
   "source": [
    "interp1d?"
   ]
  },
  {
   "cell_type": "code",
   "execution_count": 21,
   "metadata": {},
   "outputs": [
    {
     "data": {
      "image/png": "[encoded data removed]",
      "text/plain": [
       "<Figure size 432x288 with 1 Axes>"
      ]
     },
     "metadata": {
      "needs_background": "light"
     },
     "output_type": "display_data"
    }
   ],
   "source": [
    "plt.plot(k, pnorm)\n",
    "plt.plot(ktotal,pnlw)\n",
    "plt.xscale('log')\n",
    "plt.yscale('log')"
   ]
  },
  {
   "cell_type": "code",
   "execution_count": 12,
   "metadata": {},
   "outputs": [
    {
     "data": {
      "text/plain": [
       "array([2.90855454e-27, 3.54660652e-27, 4.32462848e-27, 5.27332575e-27,\n",
       "       6.43013951e-27, 7.84072446e-27, 9.56075057e-27, 1.16581002e-26,\n",
       "       1.42155471e-26, 1.73340233e-26, 2.11366021e-26, 2.57733557e-26,\n",
       "       3.14272778e-26, 3.83215053e-26, 4.67281252e-26, 5.69789120e-26,\n",
       "       6.94784224e-26, 8.47199605e-26, 1.03305047e-25, 1.25967160e-25,\n",
       "       1.53600678e-25, 1.87296184e-25, 2.28383500e-25, 2.78484175e-25,\n",
       "       3.39575475e-25, 4.14068424e-25, 5.04902951e-25, 6.15663923e-25,\n",
       "       7.50722619e-25, 9.15409252e-25, 1.11622333e-24, 1.36109015e-24,\n",
       "       1.65967360e-24, 2.02375755e-24, 2.46771089e-24, 3.00905464e-24,\n",
       "       3.66915341e-24, 4.47405858e-24, 5.45553645e-24, 6.65232193e-24,\n",
       "       8.11164721e-24, 9.89110587e-24, 1.20609258e-23, 1.47067409e-23,\n",
       "       1.79329707e-23, 2.18669411e-23, 2.66639097e-23, 3.25131933e-23,\n",
       "       3.96456391e-23, 4.83427352e-23, 5.89477204e-23, 7.18791298e-23,\n",
       "       8.76473131e-23, 1.06874576e-22, 1.30319738e-22, 1.58908085e-22,\n",
       "       1.93767882e-22, 2.36274900e-22, 2.88106717e-22, 3.51308922e-22,\n",
       "       4.28375846e-22, 5.22349004e-22, 6.36937131e-22, 7.76662548e-22,\n",
       "       9.47039644e-22, 1.15479250e-21, 1.40812027e-21, 1.71702077e-21,\n",
       "       2.09368501e-21, 2.55297839e-21, 3.11302734e-21, 3.79593469e-21,\n",
       "       4.62865197e-21, 5.64404312e-21, 6.88218146e-21, 8.39193121e-21,\n",
       "       1.02328760e-20, 1.24776703e-20, 1.52149070e-20, 1.85526136e-20,\n",
       "       2.26225155e-20, 2.75852351e-20, 3.36366306e-20, 4.10155257e-20,\n",
       "       5.00131349e-20, 6.09845570e-20, 7.43627888e-20, 9.06758143e-20,\n",
       "       1.10567441e-19, 1.34822711e-19, 1.64398879e-19, 2.00463194e-19,\n",
       "       2.44438968e-19, 2.98061743e-19, 3.63447790e-19, 4.43177626e-19,\n",
       "       5.40397861e-19, 6.58945379e-19, 8.03498760e-19, 9.79762935e-19,\n",
       "       1.19469432e-18, 1.45677538e-18, 1.77634938e-18, 2.16602857e-18,\n",
       "       2.64119201e-18, 3.22059243e-18, 3.92709639e-18, 4.78858669e-18,\n",
       "       5.83906280e-18, 7.11998269e-18, 8.68189899e-18, 1.05864541e-17,\n",
       "       1.29088130e-17, 1.57406296e-17, 1.91936640e-17, 2.34041933e-17,\n",
       "       2.85383897e-17, 3.47988787e-17, 4.24327361e-17, 5.17412386e-17,\n",
       "       6.30917543e-17, 7.69322414e-17, 9.38089264e-17, 1.14387862e-16,\n",
       "       1.39481215e-16, 1.70079314e-16, 2.07389741e-16, 2.52884982e-16,\n",
       "       3.08360546e-16, 3.76005822e-16, 4.58490489e-16, 5.59069871e-16,\n",
       "       6.81713416e-16, 8.31261353e-16, 1.01361571e-15, 1.23597325e-15,\n",
       "       1.50710949e-15, 1.83772502e-15, 2.24086785e-15, 2.73244832e-15,\n",
       "       3.33186700e-15, 4.06278039e-15, 4.95403450e-15, 6.04080329e-15,\n",
       "       7.36597682e-15, 8.98185390e-15, 1.09522061e-14, 1.33547946e-14,\n",
       "       1.62844388e-14, 1.98567587e-14, 2.42127376e-14, 2.95242861e-14,\n",
       "       3.60010265e-14, 4.38985657e-14, 5.35285823e-14, 6.52711268e-14,\n",
       "       7.95896207e-14, 9.70491443e-14, 1.18338737e-13, 1.44298591e-13,\n",
       "       1.75953206e-13, 2.14551821e-13, 2.61617713e-13, 3.19008308e-13,\n",
       "       3.88988484e-13, 4.74319943e-13, 5.78370197e-13, 7.05245449e-13,\n",
       "       8.59952636e-13, 1.04859699e-12, 1.27862298e-12, 1.55910802e-12,\n",
       "       1.90112068e-12, 2.31815742e-12, 2.82667512e-12, 3.44674039e-12,\n",
       "       4.20282132e-12, 5.12475279e-12, 6.24891359e-12, 7.61966156e-12,\n",
       "       9.29108348e-12, 1.13291287e-11, 1.38142107e-11, 1.68443785e-11,\n",
       "       2.05391845e-11, 2.50443990e-11, 3.05377591e-11, 3.72359776e-11,\n",
       "       4.54032878e-11, 5.53618614e-11, 6.75045094e-11, 8.23101660e-11,\n",
       "       1.00362765e-10, 1.22374250e-10, 1.49212631e-10, 1.81936175e-10,\n",
       "       2.21835091e-10, 2.70482343e-10, 3.29795577e-10, 4.02112611e-10,\n",
       "       4.90283428e-10, 5.97782305e-10, 7.28844452e-10, 8.88632526e-10,\n",
       "       1.08343953e-09, 1.32093602e-09, 1.61047136e-09, 1.96344059e-09,\n",
       "       2.39373150e-09, 2.91826905e-09, 3.55767852e-09, 4.33709298e-09,\n",
       "       5.28713662e-09, 6.44512184e-09, 7.85650646e-09, 9.57666740e-09,\n",
       "       1.16730590e-08, 1.42278389e-08, 1.73410627e-08, 2.11345688e-08,\n",
       "       2.57567021e-08, 3.13880567e-08, 3.82484540e-08, 4.66054212e-08,\n",
       "       5.67844895e-08, 6.91816963e-08, 8.42787613e-08, 1.02661498e-07,\n",
       "       1.25042142e-07, 1.52286421e-07, 1.85446355e-07, 2.25799976e-07,\n",
       "       2.74899411e-07, 3.34629055e-07, 4.07275895e-07, 4.95614498e-07,\n",
       "       6.03009616e-07, 7.33540014e-07, 8.92147759e-07, 1.08481810e-06,\n",
       "       1.31879598e-06, 1.60284650e-06, 1.94756788e-06, 2.36576714e-06,\n",
       "       2.87291074e-06, 3.48766437e-06, 4.23253903e-06, 5.13466319e-06,\n",
       "       6.22670478e-06, 7.54797051e-06, 9.14571484e-06, 1.10766968e-05,\n",
       "       1.34090282e-05, 1.62243655e-05, 1.96205040e-05, 2.37144437e-05,\n",
       "       2.86460066e-05, 3.45820961e-05, 4.17217028e-05, 5.03017770e-05,\n",
       "       6.06041009e-05, 7.29633144e-05, 8.77762635e-05, 1.05160949e-04,\n",
       "       1.26284721e-04, 1.51519910e-04, 1.81633336e-04, 2.17526533e-04,\n",
       "       2.60257362e-04, 3.11064568e-04, 3.71395540e-04, 4.42937509e-04,\n",
       "       5.27652376e-04, 6.27815284e-04, 7.46056952e-04, 8.85409599e-04,\n",
       "       1.04935612e-03, 1.24188179e-03, 1.46752754e-03, 1.73144313e-03,\n",
       "       2.03943817e-03, 2.39802806e-03, 2.81447118e-03, 3.29679283e-03,\n",
       "       3.85379060e-03, 4.49501532e-03, 5.23072184e-03, 6.07178454e-03,\n",
       "       7.02957496e-03, 8.11580285e-03, 9.34232847e-03, 1.07209634e-02,\n",
       "       1.22632880e-02, 1.39805282e-02, 1.58835443e-02, 1.79829947e-02,\n",
       "       2.02897385e-02, 2.28155276e-02, 2.55740200e-02, 2.85821098e-02,\n",
       "       3.18615370e-02, 3.54407139e-02, 3.93567016e-02, 4.36572959e-02,\n",
       "       4.84032217e-02, 5.36704657e-02, 5.95527427e-02, 6.61639044e-02,\n",
       "       7.36396992e-02, 8.21376048e-02, 9.18325180e-02, 1.02905074e-01,\n",
       "       1.15518753e-01, 1.29782586e-01, 1.45699560e-01, 1.63108161e-01,\n",
       "       1.81636373e-01, 2.00701118e-01, 2.19593335e-01, 2.37676595e-01,\n",
       "       2.54684786e-01, 2.71038575e-01, 2.88043664e-01, 3.07828359e-01,\n",
       "       3.32932252e-01, 3.65533466e-01, 4.06389519e-01, 4.53784838e-01,\n",
       "       5.03232515e-01, 5.48986318e-01, 5.87591110e-01, 6.21501779e-01,\n",
       "       6.59413793e-01, 7.11827374e-01, 7.83888359e-01, 8.69771753e-01,\n",
       "       9.54646180e-01, 1.02794807e+00, 1.09739829e+00, 1.18414552e+00,\n",
       "       1.29984862e+00, 1.43140576e+00, 1.55742996e+00, 1.68231562e+00,\n",
       "       1.83247646e+00, 2.01358261e+00, 2.20384996e+00, 2.40130456e+00,\n",
       "       2.62984759e+00, 2.88916032e+00, 3.16580316e+00, 3.47393264e+00,\n",
       "       3.82068728e+00, 4.19925422e+00, 4.62069757e+00, 5.08814707e+00,\n",
       "       5.60385249e+00, 6.17608666e+00, 6.80759288e+00, 7.50604514e+00,\n",
       "       8.27637568e+00, 9.12602471e+00, 1.00613030e+01, 1.10899088e+01,\n",
       "       1.22192371e+01, 1.34571714e+01, 1.48119404e+01, 1.62917520e+01,\n",
       "       1.79049951e+01, 1.96601280e+01, 2.15655077e+01, 2.36293041e+01,\n",
       "       2.58594021e+01, 2.82632770e+01, 3.08478657e+01, 3.36194429e+01,\n",
       "       3.65835079e+01, 3.97446879e+01, 4.31066694e+01, 4.66721691e+01,\n",
       "       5.04429419e+01, 5.44198277e+01, 5.86028563e+01, 6.29913758e+01,\n",
       "       6.75842159e+01, 7.23798579e+01, 7.73766036e+01, 8.25727256e+01,\n",
       "       8.79665925e+01, 9.35567632e+01, 9.93420563e+01, 1.05321598e+02,\n",
       "       1.11494856e+02, 1.17861676e+02, 1.24422303e+02, 1.31177416e+02,\n",
       "       1.38128156e+02, 1.45276145e+02, 1.52623512e+02, 1.60172907e+02,\n",
       "       1.67927511e+02, 1.75891042e+02, 1.84067755e+02, 1.92462441e+02,\n",
       "       2.01080426e+02, 2.09927558e+02, 2.19010204e+02, 2.28335242e+02,\n",
       "       2.37910047e+02, 2.47742488e+02, 2.57840917e+02, 2.68214159e+02,\n",
       "       2.78871512e+02, 2.89822732e+02, 3.01078035e+02, 3.12648093e+02,\n",
       "       3.24544027e+02, 3.36777414e+02, 3.49360280e+02, 3.62305106e+02,\n",
       "       3.75624831e+02, 3.89332856e+02, 4.03443049e+02, 4.17969754e+02,\n",
       "       4.32927797e+02, 4.48332495e+02, 4.64199671e+02, 4.80545659e+02,\n",
       "       4.97387321e+02, 5.14742061e+02, 5.32627835e+02, 5.51063172e+02,\n",
       "       5.70067186e+02, 5.89659597e+02, 6.09860746e+02, 6.30691617e+02,\n",
       "       6.52173856e+02, 6.74329790e+02, 6.97182452e+02, 7.20755604e+02,\n",
       "       7.45073757e+02, 7.70162198e+02, 7.96047016e+02, 8.22755127e+02,\n",
       "       8.50314303e+02, 8.78753198e+02, 9.08101378e+02, 9.38389356e+02,\n",
       "       9.69648614e+02, 1.00191164e+03, 1.03521198e+03, 1.06958422e+03,\n",
       "       1.10506409e+03, 1.14168846e+03, 1.17949536e+03, 1.21852408e+03,\n",
       "       1.25881517e+03, 1.30041045e+03, 1.34335315e+03, 1.38768785e+03,\n",
       "       1.43346059e+03, 1.48071891e+03, 1.52951186e+03, 1.57989011e+03,\n",
       "       1.63190596e+03, 1.68561341e+03, 1.74106820e+03, 1.79832790e+03,\n",
       "       1.85745195e+03, 1.91850171e+03, 1.98154054e+03, 2.04663386e+03,\n",
       "       2.11384924e+03, 2.18325641e+03, 2.25492741e+03, 2.32893662e+03,\n",
       "       2.40536082e+03, 2.48427932e+03, 2.56577401e+03, 2.64992944e+03,\n",
       "       2.73683294e+03, 2.82657467e+03, 2.91924773e+03, 3.01494829e+03,\n",
       "       3.11377563e+03, 3.21583229e+03, 3.32122413e+03, 3.43006051e+03,\n",
       "       3.54245434e+03, 3.65852221e+03, 3.77838455e+03, 3.90216569e+03,\n",
       "       4.02999405e+03, 4.16200224e+03, 4.29832720e+03, 4.43911035e+03,\n",
       "       4.58449774e+03, 4.73464019e+03, 4.88969345e+03, 5.04981837e+03,\n",
       "       5.21518105e+03, 5.38595303e+03, 5.56231146e+03, 5.74443929e+03,\n",
       "       5.93252544e+03, 6.12676502e+03, 6.32735952e+03, 6.53451702e+03,\n",
       "       6.74845241e+03, 6.96938762e+03, 7.19755181e+03, 7.43318167e+03,\n",
       "       7.67652162e+03, 7.92782408e+03, 8.18734972e+03, 8.45536776e+03,\n",
       "       8.73215621e+03, 9.01800218e+03, 9.31320219e+03, 9.61806243e+03,\n",
       "       9.93289915e+03, 1.02580389e+04, 1.05938190e+04, 1.09405877e+04,\n",
       "       1.12987048e+04, 1.16685416e+04, 1.20504819e+04, 1.24449217e+04,\n",
       "       1.28522704e+04, 1.32729503e+04, 1.37073979e+04, 1.41560638e+04,\n",
       "       1.46194134e+04, 1.50979273e+04, 1.55921019e+04, 1.61024498e+04,\n",
       "       1.66295004e+04, 1.71738003e+04, 1.77359142e+04, 1.83164252e+04,\n",
       "       1.89159353e+04, 1.95350665e+04, 2.01744609e+04, 2.08347819e+04,\n",
       "       2.15167143e+04, 2.22209655e+04, 2.29482660e+04, 2.36993702e+04,\n",
       "       2.44750573e+04, 2.52761318e+04, 2.61034246e+04, 2.69577940e+04,\n",
       "       2.78401261e+04, 2.87513362e+04, 2.96923694e+04, 3.06642019e+04,\n",
       "       3.16678418e+04, 3.27043300e+04, 3.37747417e+04, 3.48801872e+04,\n",
       "       3.60218132e+04, 3.72008040e+04, 3.84183823e+04, 3.96758112e+04,\n",
       "       4.09743950e+04, 4.23154807e+04, 4.37004594e+04])"
      ]
     },
     "execution_count": 12,
     "metadata": {},
     "output_type": "execute_result"
    }
   ],
   "source": [
    "pnlw"
   ]
  },
  {
   "cell_type": "code",
   "execution_count": 7,
   "metadata": {},
   "outputs": [
    {
     "data": {
      "text/plain": [
       "<function hmf.density_field.halofit.halofit(k, delta_k, sigma_8, z, cosmo=None, takahashi=True)>"
      ]
     },
     "execution_count": 7,
     "metadata": {},
     "output_type": "execute_result"
    }
   ],
   "source": [
    "density_field.halofit"
   ]
  },
  {
   "cell_type": "code",
   "execution_count": null,
   "metadata": {},
   "outputs": [],
   "source": []
  }
 ],
 "metadata": {
  "kernelspec": {
   "display_name": "Python [conda env:hmf]",
   "language": "python",
   "name": "conda-env-hmf-py"
  },
  "language_info": {
   "codemirror_mode": {
    "name": "ipython",
    "version": 3
   },
   "file_extension": ".py",
   "mimetype": "text/x-python",
   "name": "python",
   "nbconvert_exporter": "python",
   "pygments_lexer": "ipython3",
   "version": "3.7.0"
  },
  "latex_envs": {
   "bibliofile": "biblio.bib",
   "cite_by": "apalike",
   "current_citInitial": 1,
   "eqLabelWithNumbers": true,
   "eqNumInitial": 0
  },
  "nav_menu": {},
  "toc": {
   "navigate_menu": true,
   "number_sections": true,
   "sideBar": true,
   "threshold": 6,
   "toc_cell": false,
   "toc_section_display": "block",
   "toc_window_display": true
  }
 },
 "nbformat": 4,
 "nbformat_minor": 2
}
